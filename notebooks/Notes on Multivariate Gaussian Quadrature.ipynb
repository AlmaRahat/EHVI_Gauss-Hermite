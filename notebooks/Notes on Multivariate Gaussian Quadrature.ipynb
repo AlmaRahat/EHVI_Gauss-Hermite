{
 "cells": [
  {
   "cell_type": "markdown",
   "metadata": {},
   "source": [
    "This notebook shows code for Python version of the R code for multivariate Gaussian quadrature described in the article below:\n",
    "\n",
    "https://www.r-bloggers.com/2015/09/notes-on-multivariate-gaussian-quadrature-with-r-code/"
   ]
  },
  {
   "cell_type": "code",
   "execution_count": 1,
   "metadata": {},
   "outputs": [
    {
     "data": {
      "text/plain": [
       "<matplotlib.pyplot._IonContext at 0x7fc48070b8e0>"
      ]
     },
     "execution_count": 1,
     "metadata": {},
     "output_type": "execute_result"
    }
   ],
   "source": [
    "import numpy as np\n",
    "import scipy\n",
    "import warnings\n",
    "import itertools\n",
    "import matplotlib.pyplot as plt\n",
    "plt.ion()"
   ]
  },
  {
   "cell_type": "code",
   "execution_count": 2,
   "metadata": {},
   "outputs": [],
   "source": [
    "def hermite(points, z):\n",
    "    p1 = 1/np.pi**0.4\n",
    "    p2 = 0\n",
    "    for i in range(1, points+1):\n",
    "        p3 = p2\n",
    "        p2 = p1\n",
    "        p1 = z * np.sqrt(2/i) * p2 - np.sqrt((i - 1)/i) * p3\n",
    "        #print(p1)\n",
    "    pp = np.sqrt(2 * points) * p2\n",
    "    return np.array([p1, pp])"
   ]
  },
  {
   "cell_type": "code",
   "execution_count": 3,
   "metadata": {},
   "outputs": [
    {
     "name": "stdout",
     "output_type": "stream",
     "text": [
      "19.2 µs ± 989 ns per loop (mean ± std. dev. of 7 runs, 100000 loops each)\n"
     ]
    }
   ],
   "source": [
    "%timeit hermite(10, 0.6)"
   ]
  },
  {
   "cell_type": "code",
   "execution_count": 4,
   "metadata": {},
   "outputs": [
    {
     "data": {
      "text/plain": [
       "array([ 0.40761999, -0.32733477])"
      ]
     },
     "execution_count": 4,
     "metadata": {},
     "output_type": "execute_result"
    }
   ],
   "source": [
    "hermite(5, 0.6) # checked against R"
   ]
  },
  {
   "cell_type": "code",
   "execution_count": 5,
   "metadata": {},
   "outputs": [],
   "source": [
    "def gauss_hermite(points, interlim=50):\n",
    "    x = np.zeros(points)\n",
    "    w = np.zeros(points)\n",
    "    m = np.int(np.floor((points + 1)/2))\n",
    "    for i in range(1, m+1):\n",
    "        if i == 1:\n",
    "            z = np.sqrt(2 * points +1) - 2 * (2 * points + 1)**(-1/6)\n",
    "        elif i == 2:\n",
    "            z = z - np.sqrt(points)/z\n",
    "        elif (i == 3 or i == 4):\n",
    "            z = 1.9 * z - 0.9 *x[i-1-2]\n",
    "        else:\n",
    "            z = 2 * z - x[i-1-2]\n",
    "        # Newton-Raphson loop \n",
    "        for j in range(interlim):\n",
    "            z1 = z\n",
    "            p = hermite(points, z)\n",
    "            z = z1 - p[0]/p[1]\n",
    "            if np.abs(z1 - z)<1e-15:\n",
    "                break\n",
    "        if j == interlim - 1:\n",
    "            warnings.warn(\"iteration limit reached!\")\n",
    "        x[i-1] = z\n",
    "        x[points - i] = -z\n",
    "        f = 2/p[1]**2\n",
    "        w[i-1] = f\n",
    "        w[points - i] = f\n",
    "    return x * np.sqrt(2), w/np.sum(w)"
   ]
  },
  {
   "cell_type": "code",
   "execution_count": 6,
   "metadata": {},
   "outputs": [
    {
     "name": "stdout",
     "output_type": "stream",
     "text": [
      "180 µs ± 4.67 µs per loop (mean ± std. dev. of 7 runs, 10000 loops each)\n"
     ]
    }
   ],
   "source": [
    "%timeit gauss_hermite(5)"
   ]
  },
  {
   "cell_type": "code",
   "execution_count": 7,
   "metadata": {},
   "outputs": [
    {
     "data": {
      "text/plain": [
       "(array([ 2.85697001e+00,  1.35562618e+00,  2.65984009e-37, -1.35562618e+00,\n",
       "        -2.85697001e+00]),\n",
       " array([0.01125741, 0.22207592, 0.53333333, 0.22207592, 0.01125741]))"
      ]
     },
     "execution_count": 7,
     "metadata": {},
     "output_type": "execute_result"
    }
   ],
   "source": [
    "gauss_hermite(5) # checked against R"
   ]
  },
  {
   "cell_type": "code",
   "execution_count": 8,
   "metadata": {},
   "outputs": [],
   "source": [
    "def mGauss_hermite(n, mu, sigma, prune=None):\n",
    "    dm = len(mu)\n",
    "    gh = gauss_hermite(n)\n",
    "    l1 = [gh[0]]*dm\n",
    "    l2 = [gh[1]]*dm\n",
    "    x = np.array(np.meshgrid(*l1)).transpose().reshape((-1, dm))\n",
    "    w = np.prod(np.array(np.meshgrid(*l2)).transpose().reshape(-1,dm),\n",
    "                    axis=1)\n",
    "    if prune is not None:\n",
    "        qwt = np.quantile(w, prune)\n",
    "        inds = np.where(w>qwt)[0]\n",
    "        x = x[inds]\n",
    "        w = w[inds]\n",
    "    eigval, eigvec = np.linalg.eig(sigma)\n",
    "    rot = np.dot(eigvec, np.diag(np.sqrt(eigval)))\n",
    "    x = np.dot(rot,x.transpose()).transpose()\n",
    "    return x+mu, w"
   ]
  },
  {
   "cell_type": "code",
   "execution_count": 9,
   "metadata": {},
   "outputs": [],
   "source": [
    "mean = np.zeros(2)\n",
    "cov = np.ones((2,2))\n",
    "cov[0,1] = 0.5\n",
    "cov[1,0] = 0.5\n",
    "prune = 0.2\n",
    "n = 10"
   ]
  },
  {
   "cell_type": "code",
   "execution_count": 10,
   "metadata": {},
   "outputs": [
    {
     "name": "stdout",
     "output_type": "stream",
     "text": [
      "(80, 2) (80,)\n"
     ]
    }
   ],
   "source": [
    "x, w = mGauss_hermite(n, mean, cov, prune)\n",
    "print(x.shape, w.shape)"
   ]
  },
  {
   "cell_type": "code",
   "execution_count": 11,
   "metadata": {},
   "outputs": [
    {
     "data": {
      "image/png": "[encoded data removed]",
      "text/plain": [
       "<Figure size 432x288 with 2 Axes>"
      ]
     },
     "metadata": {
      "needs_background": "light"
     },
     "output_type": "display_data"
    }
   ],
   "source": [
    "plt.scatter(x[:,0], x[:,1], c=w)\n",
    "cbar = plt.colorbar()\n",
    "plt.scatter(mean[0], mean[1], color=\"black\", marker=\"x\", s=120)\n",
    "cbar.set_label(\"Weights\")"
   ]
  },
  {
   "cell_type": "code",
   "execution_count": 12,
   "metadata": {
    "scrolled": true
   },
   "outputs": [
    {
     "name": "stdout",
     "output_type": "stream",
     "text": [
      "666 µs ± 13.4 µs per loop (mean ± std. dev. of 7 runs, 1000 loops each)\n"
     ]
    }
   ],
   "source": [
    "%timeit mGauss_hermite(10, mean, cov, prune)"
   ]
  },
  {
   "cell_type": "code",
   "execution_count": 13,
   "metadata": {},
   "outputs": [],
   "source": [
    "mean = np.zeros(3)\n",
    "cov = np.diag(np.ones(3))\n",
    "prune = 0.2\n",
    "n = 10"
   ]
  },
  {
   "cell_type": "code",
   "execution_count": 14,
   "metadata": {},
   "outputs": [
    {
     "name": "stdout",
     "output_type": "stream",
     "text": [
      "(768, 3) (768,)\n"
     ]
    }
   ],
   "source": [
    "x, w = mGauss_hermite(n, mean, cov, prune)\n",
    "print(x.shape, w.shape)"
   ]
  },
  {
   "cell_type": "code",
   "execution_count": 15,
   "metadata": {
    "collapsed": true
   },
   "outputs": [
    {
     "data": {
      "text/plain": [
       "\"\\nimport plotly.graph_objects as go\\nimport numpy as np\\n\\na, b, c = x.transpose()\\n\\nfig = go.Figure(data=[go.Scatter3d(\\n    x=a,\\n    y=b,\\n    z=c,\\n    mode='markers',\\n    marker=dict(\\n        size=5,\\n        color=w,                # set color to an array/list of desired values\\n        colorscale='Viridis',   # choose a colorscale\\n        opacity=0.75\\n    )\\n)])\\n\\n# tight layout\\nfig.update_layout(margin=dict(l=0, r=0, b=0, t=0))\\nfig.show() \\n\""
      ]
     },
     "execution_count": 15,
     "metadata": {},
     "output_type": "execute_result"
    }
   ],
   "source": [
    "# uncomment to view the 3D diagram\n",
    "\"\"\"\n",
    "import plotly.graph_objects as go\n",
    "import numpy as np\n",
    "\n",
    "a, b, c = x.transpose()\n",
    "\n",
    "fig = go.Figure(data=[go.Scatter3d(\n",
    "    x=a,\n",
    "    y=b,\n",
    "    z=c,\n",
    "    mode='markers',\n",
    "    marker=dict(\n",
    "        size=5,\n",
    "        color=w,                # set color to an array/list of desired values\n",
    "        colorscale='Viridis',   # choose a colorscale\n",
    "        opacity=0.75\n",
    "    )\n",
    ")])\n",
    "\n",
    "# tight layout\n",
    "fig.update_layout(margin=dict(l=0, r=0, b=0, t=0))\n",
    "fig.show() \n",
    "\"\"\""
   ]
  }
 ],
 "metadata": {
  "kernelspec": {
   "display_name": "Python 3",
   "language": "python",
   "name": "python3"
  },
  "language_info": {
   "codemirror_mode": {
    "name": "ipython",
    "version": 3
   },
   "file_extension": ".py",
   "mimetype": "text/x-python",
   "name": "python",
   "nbconvert_exporter": "python",
   "pygments_lexer": "ipython3",
   "version": "3.8.5"
  }
 },
 "nbformat": 4,
 "nbformat_minor": 4
}
