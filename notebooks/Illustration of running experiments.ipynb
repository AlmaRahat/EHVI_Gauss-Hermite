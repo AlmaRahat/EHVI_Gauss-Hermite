{
 "cells": [
  {
   "cell_type": "markdown",
   "metadata": {},
   "source": [
    "This is a quick illustration of how to use the code in this repository. "
   ]
  },
  {
   "cell_type": "code",
   "execution_count": 1,
   "metadata": {},
   "outputs": [
    {
     "name": "stdout",
     "output_type": "stream",
     "text": [
      "Working directory:  /Users/almarahat/Dropbox/repo/EHVI_Gauss-Hermite\n"
     ]
    }
   ],
   "source": [
    "import os\n",
    "os.chdir(\"../\") # change directory to parent directory\n",
    "print(\"Working directory: \", os.getcwd())"
   ]
  },
  {
   "cell_type": "code",
   "execution_count": 2,
   "metadata": {},
   "outputs": [],
   "source": [
    "import sys\n",
    "sys.path.append(\"./src/\") # add code directory to path"
   ]
  },
  {
   "cell_type": "code",
   "execution_count": 3,
   "metadata": {},
   "outputs": [],
   "source": [
    "import pandas as pd\n",
    "import timeit\n",
    "from IPython.display import clear_output\n",
    "import import_ipynb\n",
    "from gauss_hermite import mGauss_hermite\n",
    "from ehvi_wrapper import generate_txt_input_pf, run_ehvi\n",
    "from utils import *\n",
    "import numpy as np\n",
    "import warnings\n",
    "import matplotlib.pyplot as plt\n",
    "from evoalgos.performance import FonsecaHyperVolume as FH\n",
    "from scipy.stats import multivariate_normal as MVN\n",
    "\n",
    "source = \"data/pf/\" # directory where Pareto front data is saved\n",
    "# load data from csv\n",
    "probd2_2d = pd.read_csv(source + \"DTLZ2.2D.pf\", header=None, delimiter=\" \", dtype=float)\n",
    "pfd2_2d = probd2_2d.to_numpy()"
   ]
  },
  {
   "cell_type": "code",
   "execution_count": 4,
   "metadata": {},
   "outputs": [],
   "source": [
    "# set seed for repeatability\n",
    "np.random.seed(1234)"
   ]
  },
  {
   "cell_type": "code",
   "execution_count": 5,
   "metadata": {},
   "outputs": [
    {
     "name": "stdout",
     "output_type": "stream",
     "text": [
      "The exmaple distribution is deifned by the mean:  [0.19151945 0.62210877]  and covariance matrix: \n",
      "[[0.43772774 0.        ]\n",
      " [0.         0.78535858]]\n",
      "The reference vector used here is:  [11. 11.]\n",
      "HPV of the current front:  120.21062692728928\n",
      "                  0\n",
      "mean       0.191519\n",
      "mean       0.622109\n",
      "std        0.661610\n",
      "std        0.886205\n",
      "ref       11.000000\n",
      "ref       11.000000\n",
      "3          2.347278\n",
      "4          3.041684\n",
      "5          3.336036\n",
      "6          3.190702\n",
      "7          3.583626\n",
      "8          3.328133\n",
      "9          3.542656\n",
      "10         3.383657\n",
      "11         3.496399\n",
      "12         3.408027\n",
      "13         3.452649\n",
      "14         3.416683\n",
      "15         3.412840\n",
      "mc_avg     3.357030\n",
      "mc_std     4.948185\n",
      "mc_err     0.049482\n",
      "measured   3.402860\n",
      "CPU times: user 5.77 s, sys: 41.3 ms, total: 5.81 s\n",
      "Wall time: 5.8 s\n"
     ]
    }
   ],
   "source": [
    "%%time\n",
    "ndim = 2 # number of dimensions of the objectvie space\n",
    "# code base for the exact calculation of EHVI\n",
    "exact_code_base = \"EHVI/EHVI_2D/\" # use \"EHVI/EHVI_3D/\" for ndim=3\n",
    "# lower and upper bounds\n",
    "lb = np.zeros(ndim)\n",
    "ub = np.ones(ndim)\n",
    "# example mean and covariance matrix\n",
    "mean = get_mean(lb, ub)\n",
    "cov = get_cov_indep(lb, ub) # This creates an uncorrelated covariance matrix.\n",
    "                            # for a correlated covaraince matrix call \"get_cov(lb,ub)\"\n",
    "print(\"The exmaple distribution is deifned by the mean: \", mean, \" and covariance matrix: \")\n",
    "print(cov)\n",
    "prune = 0.2 # pruning paramter between 0 and 1. \n",
    "nmc = 10000 # number of monte carlo samples\n",
    "ngh = np.arange(3, 16, 1) # number of points per dimensions for Gauss-Hermite experiments, \n",
    "                          # we vary then between 3 and 15\n",
    "# current hpv\n",
    "ref_vect = np.ones(ndim)*11 # this is for DTLZ2-2D\n",
    "print(\"The reference vector used here is: \", ref_vect)\n",
    "hpv = FH(ref_vect)\n",
    "current_hv = hpv.assess_non_dom_front(pfd2_2d)\n",
    "print(\"HPV of the current front: \", current_hv)\n",
    "results, labels = run_exp(mean, cov, pfd2_2d, ref_vect, nmc, ngh, code_base=exact_code_base)\n",
    "df = pd.DataFrame(data=results, index=labels)\n",
    "print(df)"
   ]
  },
  {
   "cell_type": "markdown",
   "metadata": {},
   "source": [
    "### Key to the labels. \n",
    "\n",
    "- mean: mean of the Gaussian distribution.\n",
    "- std: standard deviation of the Gaussian distribution. \n",
    "- ref: reference vector for hypervolume computation. \n",
    "- number: number of points per dimension for Gauss-Hermite approximation\n",
    "- mc_avg: average MC approximation. \n",
    "- mc_std: standard deviation of the MC approximation. \n",
    "- mc_err: error estimation for MC. \n",
    "- measured: exact EHVI\n"
   ]
  }
 ],
 "metadata": {
  "kernelspec": {
   "display_name": "Python 3",
   "language": "python",
   "name": "python3"
  },
  "language_info": {
   "codemirror_mode": {
    "name": "ipython",
    "version": 3
   },
   "file_extension": ".py",
   "mimetype": "text/x-python",
   "name": "python",
   "nbconvert_exporter": "python",
   "pygments_lexer": "ipython3",
   "version": "3.8.5"
  }
 },
 "nbformat": 4,
 "nbformat_minor": 4
}
