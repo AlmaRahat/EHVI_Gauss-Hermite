{
 "cells": [
  {
   "cell_type": "markdown",
   "metadata": {},
   "source": [
    "This is a quick illustration of how to use the code in this repository. "
   ]
  },
  {
   "cell_type": "code",
   "execution_count": 1,
   "metadata": {},
   "outputs": [
    {
     "name": "stdout",
     "output_type": "stream",
     "text": [
      "Working directory:  /Users/almarahat/Dropbox/repo/EHVI_Gauss-Hermite\n"
     ]
    }
   ],
   "source": [
    "import os\n",
    "os.chdir(\"../\") # change directory to parent directory\n",
    "print(\"Working directory: \", os.getcwd())"
   ]
  },
  {
   "cell_type": "code",
   "execution_count": 2,
   "metadata": {},
   "outputs": [],
   "source": [
    "import sys\n",
    "sys.path.append(\"./src/\") # add code directory to path"
   ]
  },
  {
   "cell_type": "code",
   "execution_count": 3,
   "metadata": {},
   "outputs": [],
   "source": [
    "import pandas as pd\n",
    "import timeit\n",
    "from IPython.display import clear_output\n",
    "import import_ipynb\n",
    "from gauss_hermite import mGauss_hermite\n",
    "from ehvi_wrapper import generate_txt_input_pf, run_ehvi\n",
    "from utils import *\n",
    "import numpy as np\n",
    "import warnings\n",
    "import matplotlib.pyplot as plt\n",
    "from evoalgos.performance import FonsecaHyperVolume as FH\n",
    "from scipy.stats import multivariate_normal as MVN\n",
    "\n",
    "source = \"data/pf/\" # directory where Pareto front data is saved\n",
    "# load data from csv\n",
    "probd2_2d = pd.read_csv(source + \"DTLZ2.2D.pf\", header=None, delimiter=\" \", dtype=float)\n",
    "pfd2_2d = probd2_2d.to_numpy()"
   ]
  },
  {
   "cell_type": "code",
   "execution_count": 4,
   "metadata": {},
   "outputs": [],
   "source": [
    "# set seed for repeatability\n",
    "np.random.seed(1234)"
   ]
  },
  {
   "cell_type": "code",
   "execution_count": 5,
   "metadata": {},
   "outputs": [
    {
     "name": "stdout",
     "output_type": "stream",
     "text": [
      "The exmaple distribution is deifned by the mean:  [0.9 0.9]  and covariance matrix:  [[1. 0.]\n",
      " [0. 1.]]\n",
      "The reference vector used here is:  [11. 11.]\n",
      "HPV of the current front:  120.21062692728928\n",
      "                  0\n",
      "mean       0.900000\n",
      "mean       0.900000\n",
      "std        1.000000\n",
      "std        1.000000\n",
      "ref       11.000000\n",
      "ref       11.000000\n",
      "3          1.874274\n",
      "4          1.336525\n",
      "5          2.271521\n",
      "6          1.952126\n",
      "7          2.228108\n",
      "8          2.192074\n",
      "9          1.993496\n",
      "10         2.268734\n",
      "11         1.802369\n",
      "12         2.278784\n",
      "13         1.844174\n",
      "14         2.256768\n",
      "15         1.966132\n",
      "mc_avg     2.056967\n",
      "mc_std     4.287117\n",
      "mc_err     0.042871\n",
      "measured   2.098869\n",
      "CPU times: user 6.3 s, sys: 76.1 ms, total: 6.38 s\n",
      "Wall time: 6.45 s\n"
     ]
    }
   ],
   "source": [
    "%%time\n",
    "ndim = 2 # number of dimensions of the objectvie space\n",
    "# code base for the exact calculation of EHVI\n",
    "exact_code_base = \"EHVI/EHVI_2D/\" # use \"EHVI/EHVI_3D/\" for ndim=3\n",
    "# example mean and covariance matrix\n",
    "mean = np.zeros(ndim)+0.9\n",
    "cov = np.zeros((ndim, ndim)) \n",
    "np.fill_diagonal(cov, 1)\n",
    "print(\"The exmaple distribution is deifned by the mean: \", mean, \" and covariance matrix: \", cov)\n",
    "prune = 0.2 # pruning paramter between 0 and 1. \n",
    "nmc = 10000 # number of monte carlo samples\n",
    "ngh = np.arange(3, 16, 1) # number of points per dimensions for Gauss-Hermite experiments, \n",
    "                          # we vary then between 3 and 15\n",
    "# current hpv\n",
    "ref_vect = np.ones(ndim)*11 # this is for DTLZ2-2D\n",
    "print(\"The reference vector used here is: \", ref_vect)\n",
    "hpv = FH(ref_vect)\n",
    "current_hv = hpv.assess_non_dom_front(pfd2_2d)\n",
    "print(\"HPV of the current front: \", current_hv)\n",
    "results, labels = run_exp(mean, cov, pfd2_2d, ref_vect, nmc, ngh, code_base=exact_code_base)\n",
    "df = pd.DataFrame(data=results, index=labels)\n",
    "print(df)"
   ]
  },
  {
   "cell_type": "markdown",
   "metadata": {},
   "source": [
    "### Key to the labels. \n",
    "\n",
    "- mean: mean of the Gaussian distribution.\n",
    "- std: standard deviation of the Gaussian distribution. \n",
    "- ref: reference vector for hypervolume computation. \n",
    "- number: number of points per dimension for Gauss-Hermite approximation\n",
    "- mc_avg: average MC approximation. \n",
    "- mc_std: standard deviation of the MC approximation. \n",
    "- mc_err: error estimation for MC. \n",
    "- measured: exact EHVI\n"
   ]
  }
 ],
 "metadata": {
  "kernelspec": {
   "display_name": "Python 3",
   "language": "python",
   "name": "python3"
  },
  "language_info": {
   "codemirror_mode": {
    "name": "ipython",
    "version": 3
   },
   "file_extension": ".py",
   "mimetype": "text/x-python",
   "name": "python",
   "nbconvert_exporter": "python",
   "pygments_lexer": "ipython3",
   "version": "3.8.5"
  }
 },
 "nbformat": 4,
 "nbformat_minor": 4
}
